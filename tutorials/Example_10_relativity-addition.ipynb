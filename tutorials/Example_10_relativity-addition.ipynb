{
 "cells": [
  {
   "cell_type": "markdown",
   "id": "5d904dee",
   "metadata": {},
   "source": [
    "# Example 10: Relativitistic Velocity Addition"
   ]
  },
  {
   "cell_type": "markdown",
   "id": "6465ec94",
   "metadata": {},
   "source": [
    "In this example, we will symbolically regress $f(u,v)=\\frac{u+v}{1+uv}$. In relavitity, we know the rapidity trick $f(u,v)={\\rm tanh}({\\rm arctanh}\\ u+{\\rm arctanh}\\ v)$. Can we rediscover rapidity trick with KAN?"
   ]
  },
  {
   "cell_type": "markdown",
   "id": "94056ef6",
   "metadata": {},
   "source": [
    "Intialize model and create dataset"
   ]
  },
  {
   "cell_type": "code",
   "execution_count": 1,
   "id": "0a59179d",
   "metadata": {
    "ExecuteTime": {
     "end_time": "2024-07-16T10:43:33.883061Z",
     "start_time": "2024-07-16T10:43:32.128730Z"
    }
   },
   "outputs": [],
   "source": [
    "from kan import *\n",
    "\n",
    "# initialize KAN with G=3\n",
    "model = KAN(width=[2,1,1], grid=10, k=3)\n",
    "\n",
    "# create dataset\n",
    "f = lambda x: (x[:,[0]]+x[:,[1]])/(1+x[:,[0]]*x[:,[1]])\n",
    "dataset = create_dataset(f, n_var=2, ranges=[-0.9,0.9])"
   ]
  },
  {
   "cell_type": "markdown",
   "id": "cb1f817e",
   "metadata": {},
   "source": [
    "Train KAN and plot"
   ]
  },
  {
   "cell_type": "code",
   "execution_count": 2,
   "id": "a87b97b0",
   "metadata": {
    "ExecuteTime": {
     "end_time": "2024-07-16T10:43:38.764521Z",
     "start_time": "2024-07-16T10:43:37.104888Z"
    }
   },
   "outputs": [
    {
     "name": "stderr",
     "output_type": "stream",
     "text": [
      "train loss: 6.82e-04 | test loss: 6.23e-04 | reg: 5.49e+00 : 100%|██| 20/20 [00:01<00:00, 12.20it/s]\n"
     ]
    }
   ],
   "source": [
    "model.fit(dataset, opt=\"LBFGS\", steps=20);"
   ]
  },
  {
   "cell_type": "code",
   "execution_count": 3,
   "id": "3f1cfc9d",
   "metadata": {
    "ExecuteTime": {
     "end_time": "2024-07-16T10:43:40.100871Z",
     "start_time": "2024-07-16T10:43:39.726551Z"
    }
   },
   "outputs": [
    {
     "data": {
      "text/plain": "<Figure size 500x400 with 6 Axes>",
      "image/png": "[encoded data removed]"
     },
     "metadata": {},
     "output_type": "display_data"
    }
   ],
   "source": [
    "model.plot(beta=10)"
   ]
  },
  {
   "cell_type": "markdown",
   "id": "5ca6421a",
   "metadata": {},
   "source": [
    "Retrain the model, the loss remains similar, meaning that the locking does not degrade model behavior, justifying our hypothesis that these two activation functions are the same. Let's now determine what this function is using $\\texttt{suggest_symbolic}$"
   ]
  },
  {
   "cell_type": "code",
   "execution_count": 4,
   "id": "2ccb7048",
   "metadata": {
    "ExecuteTime": {
     "end_time": "2024-07-16T10:43:45.980912Z",
     "start_time": "2024-07-16T10:43:43.873208Z"
    }
   },
   "outputs": [
    {
     "name": "stdout",
     "output_type": "stream",
     "text": [
      "  function  fitting r2    r2 loss  complexity  complexity loss  total loss\n",
      "0  arctanh    0.999999 -16.470396           4                4  -16.470396\n",
      "1      tan    0.999843 -12.552001           3                3  -12.552001\n",
      "2   arccos    0.998866  -9.772025           4                4   -9.772025\n",
      "3   arcsin    0.998866  -9.772025           4                4   -9.772025\n",
      "4     sqrt    0.982270  -5.816821           2                2   -5.816821\n"
     ]
    },
    {
     "data": {
      "text/plain": "('arctanh',\n (<function kan.utils.<lambda>(x)>,\n  <function kan.utils.<lambda>(x)>,\n  4,\n  <function kan.utils.<lambda>(x, y_th)>),\n 0.9999989867210388,\n 4)"
     },
     "execution_count": 4,
     "metadata": {},
     "output_type": "execute_result"
    }
   ],
   "source": [
    "model.suggest_symbolic(0,1,0,weight_simple=0.0)"
   ]
  },
  {
   "cell_type": "markdown",
   "id": "0092be41",
   "metadata": {},
   "source": [
    "We can see that ${\\rm arctanh}$ is at the top of the suggestion list! So we can set both to arctanh, retrain the model, and plot it."
   ]
  },
  {
   "cell_type": "code",
   "execution_count": 6,
   "id": "1bb96fe1",
   "metadata": {
    "ExecuteTime": {
     "end_time": "2024-07-16T10:44:33.234031Z",
     "start_time": "2024-07-16T10:44:33.085507Z"
    }
   },
   "outputs": [
    {
     "name": "stdout",
     "output_type": "stream",
     "text": [
      "r2 is 0.9999992251396179\n",
      "r2 is 0.9999989867210388\n"
     ]
    },
    {
     "data": {
      "text/plain": "-100000000.0"
     },
     "execution_count": 6,
     "metadata": {},
     "output_type": "execute_result"
    }
   ],
   "source": [
    "model.fix_symbolic(0,0,0,'arctanh')\n",
    "model.fix_symbolic(0,1,0,'arctanh')"
   ]
  },
  {
   "cell_type": "code",
   "execution_count": 7,
   "id": "83b852a3",
   "metadata": {
    "ExecuteTime": {
     "end_time": "2024-07-16T10:44:37.717647Z",
     "start_time": "2024-07-16T10:44:36.306158Z"
    }
   },
   "outputs": [
    {
     "name": "stderr",
     "output_type": "stream",
     "text": [
      "train loss: 3.94e-04 | test loss: 4.73e-04 | reg: 5.55e+00 : 100%|██| 20/20 [00:01<00:00, 14.21it/s]\n"
     ]
    }
   ],
   "source": [
    "model.fit(dataset, opt=\"LBFGS\", steps=20, update_grid=False);"
   ]
  },
  {
   "cell_type": "code",
   "execution_count": 8,
   "id": "9ccd0923",
   "metadata": {
    "ExecuteTime": {
     "end_time": "2024-07-16T10:44:40.503638Z",
     "start_time": "2024-07-16T10:44:40.202309Z"
    }
   },
   "outputs": [
    {
     "data": {
      "text/plain": "<Figure size 500x400 with 6 Axes>",
      "image/png": "[encoded data removed]"
     },
     "metadata": {},
     "output_type": "display_data"
    }
   ],
   "source": [
    "model.plot(beta=10)"
   ]
  },
  {
   "cell_type": "markdown",
   "id": "4b98a727",
   "metadata": {},
   "source": [
    "We will see that ${\\rm tanh}$ is at the top of the suggestion list! So we can set it to ${\\rm tanh}$, retrain the model to machine precision, plot it and finally get the symbolic formula."
   ]
  },
  {
   "cell_type": "code",
   "execution_count": 9,
   "id": "99ad38b9",
   "metadata": {
    "ExecuteTime": {
     "end_time": "2024-07-16T10:44:46.899209Z",
     "start_time": "2024-07-16T10:44:44.807332Z"
    }
   },
   "outputs": [
    {
     "name": "stdout",
     "output_type": "stream",
     "text": [
      "  function  fitting r2    r2 loss  complexity  complexity loss  total loss\n",
      "0     tanh    0.999978 -14.913142           3                3   -0.582628\n",
      "1        x    0.945766  -4.204389           1                1   -0.040878\n",
      "2        0    0.000000   0.000014           0                0    0.000003\n",
      "3      cos    0.995870  -7.916276           2                2    0.016745\n",
      "4      sin    0.995870  -7.916276           2                2    0.016745\n"
     ]
    },
    {
     "data": {
      "text/plain": "('tanh',\n (<function kan.utils.<lambda>(x)>,\n  <function kan.utils.<lambda>(x)>,\n  3,\n  <function kan.utils.<lambda>(x, y_th)>),\n 0.9999775886535645,\n 3)"
     },
     "execution_count": 9,
     "metadata": {},
     "output_type": "execute_result"
    }
   ],
   "source": [
    "model.suggest_symbolic(1,0,0)"
   ]
  },
  {
   "cell_type": "code",
   "execution_count": 10,
   "id": "af24c80d",
   "metadata": {
    "ExecuteTime": {
     "end_time": "2024-07-16T10:44:52.508494Z",
     "start_time": "2024-07-16T10:44:52.427529Z"
    }
   },
   "outputs": [
    {
     "name": "stdout",
     "output_type": "stream",
     "text": [
      "r2 is 0.9999775886535645\n"
     ]
    },
    {
     "data": {
      "text/plain": "tensor(1.0000)"
     },
     "execution_count": 10,
     "metadata": {},
     "output_type": "execute_result"
    }
   ],
   "source": [
    "model.fix_symbolic(1,0,0,'tanh')"
   ]
  },
  {
   "cell_type": "code",
   "execution_count": 11,
   "id": "01936f17",
   "metadata": {
    "ExecuteTime": {
     "end_time": "2024-07-16T10:44:56.355606Z",
     "start_time": "2024-07-16T10:44:55.811991Z"
    }
   },
   "outputs": [
    {
     "name": "stderr",
     "output_type": "stream",
     "text": [
      "train loss: 7.02e-08 | test loss: 7.13e-08 | reg: 5.57e+00 : 100%|██| 20/20 [00:00<00:00, 37.15it/s]\n"
     ]
    }
   ],
   "source": [
    "model.fit(dataset, opt=\"LBFGS\", steps=20);"
   ]
  },
  {
   "cell_type": "code",
   "execution_count": 12,
   "id": "76bcc188",
   "metadata": {
    "ExecuteTime": {
     "end_time": "2024-07-16T10:44:59.571354Z",
     "start_time": "2024-07-16T10:44:59.271714Z"
    }
   },
   "outputs": [
    {
     "data": {
      "text/plain": "<Figure size 500x400 with 6 Axes>",
      "image/png": "[encoded data removed]"
     },
     "metadata": {},
     "output_type": "display_data"
    }
   ],
   "source": [
    "model.plot()"
   ]
  },
  {
   "cell_type": "code",
   "execution_count": 13,
   "id": "b62b0246",
   "metadata": {
    "ExecuteTime": {
     "end_time": "2024-07-16T10:45:02.702409Z",
     "start_time": "2024-07-16T10:45:02.565546Z"
    }
   },
   "outputs": [
    {
     "data": {
      "text/plain": "tanh(atanh(x_1) + atanh(x_2))",
      "text/latex": "$\\displaystyle \\tanh{\\left(\\operatorname{atanh}{\\left(x_{1} \\right)} + \\operatorname{atanh}{\\left(x_{2} \\right)} \\right)}$"
     },
     "execution_count": 13,
     "metadata": {},
     "output_type": "execute_result"
    }
   ],
   "source": [
    "formula = model.symbolic_formula()[0][0]\n",
    "nsimplify(ex_round(formula, 4))"
   ]
  }
 ],
 "metadata": {
  "kernelspec": {
   "display_name": "Python 3 (ipykernel)",
   "language": "python",
   "name": "python3"
  },
  "language_info": {
   "codemirror_mode": {
    "name": "ipython",
    "version": 3
   },
   "file_extension": ".py",
   "mimetype": "text/x-python",
   "name": "python",
   "nbconvert_exporter": "python",
   "pygments_lexer": "ipython3",
   "version": "3.9.7"
  }
 },
 "nbformat": 4,
 "nbformat_minor": 5
}
